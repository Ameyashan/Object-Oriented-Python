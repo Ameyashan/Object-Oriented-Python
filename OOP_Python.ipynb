{
  "nbformat": 4,
  "nbformat_minor": 0,
  "metadata": {
    "kernelspec": {
      "display_name": "Python 3",
      "language": "python",
      "name": "python3"
    },
    "language_info": {
      "codemirror_mode": {
        "name": "ipython",
        "version": 3
      },
      "file_extension": ".py",
      "mimetype": "text/x-python",
      "name": "python",
      "nbconvert_exporter": "python",
      "pygments_lexer": "ipython3",
      "version": "3.6.4"
    },
    "colab": {
      "name": "OOP Python.ipynb",
      "provenance": [],
      "collapsed_sections": []
    }
  },
  "cells": [
    {
      "cell_type": "markdown",
      "metadata": {
        "id": "uwznwigolyWf"
      },
      "source": [
        "# Object Oriented Programming in Python:"
      ]
    },
    {
      "cell_type": "markdown",
      "metadata": {
        "id": "ZFsfzBe9lyWf"
      },
      "source": [
        "## 1. Classes and Instances:\n"
      ]
    },
    {
      "cell_type": "markdown",
      "metadata": {
        "id": "wx7koQ_qlyWf"
      },
      "source": [
        "They allow us to logically group data and function in a way that it is easy to reuse or easy to build upon if needed. Data and functions are analogous to attributes and methods.\n",
        "\n",
        "Example: We want to represent employees of a company in our python code."
      ]
    },
    {
      "cell_type": "markdown",
      "metadata": {
        "id": "cPolC752lyWf"
      },
      "source": [
        "If you want to leave a class empty then use 'pass'"
      ]
    },
    {
      "cell_type": "code",
      "metadata": {
        "id": "3M8UuZdJlyWg"
      },
      "source": [
        "class Employee:\n",
        "    pass"
      ],
      "execution_count": null,
      "outputs": []
    },
    {
      "cell_type": "markdown",
      "metadata": {
        "id": "HbZsbD2hlyWg"
      },
      "source": [
        "Creating Instance of the class Employee:"
      ]
    },
    {
      "cell_type": "code",
      "metadata": {
        "id": "OnMEwyjclyWg"
      },
      "source": [
        "emp_1 = Employee()\n",
        "emp_2 = Employee()"
      ],
      "execution_count": null,
      "outputs": []
    },
    {
      "cell_type": "markdown",
      "metadata": {
        "id": "nZGHwMPclyWh"
      },
      "source": [
        "Giving attributes to instances that are unique to them:"
      ]
    },
    {
      "cell_type": "code",
      "metadata": {
        "id": "Wn088Op4lyWh",
        "outputId": "99185d40-c110-48a9-efe4-65f8e389d6b7"
      },
      "source": [
        "emp_1.first = 'Ameya'\n",
        "emp_1.last = 'Shanbhag'\n",
        "emp_1.email = 'ameya.shanbhag@nyu.edu'\n",
        "emp_1.pay = 50000\n",
        "\n",
        "emp_2.first = 'Test'\n",
        "emp_2.last = 'User'\n",
        "emp_2.email = 'test.user@nyu.edu'\n",
        "emp_2.pay = 70000\n",
        "\n",
        "print(emp_1.email)\n",
        "print(emp_2.email)"
      ],
      "execution_count": null,
      "outputs": [
        {
          "output_type": "stream",
          "text": [
            "ameya.shanbhag@nyu.edu\n",
            "test.user@nyu.edu\n"
          ],
          "name": "stdout"
        }
      ]
    },
    {
      "cell_type": "markdown",
      "metadata": {
        "id": "ueJLVNzwlyWi"
      },
      "source": [
        "To make this setup automatically when we create Employee we will use ____init____ method inside our class:\n",
        "In init, they receieve the first argument as the instance itself. Here we call it self."
      ]
    },
    {
      "cell_type": "code",
      "metadata": {
        "id": "3ReyPtTclyWi"
      },
      "source": [
        "class Employee:\n",
        "    def __init__(self, first, last, pay):  \n",
        "        self.first = first\n",
        "        self.last = last\n",
        "        self.pay = pay\n",
        "        self.email = first + '.' + last + '@nyu.edu'"
      ],
      "execution_count": null,
      "outputs": []
    },
    {
      "cell_type": "markdown",
      "metadata": {
        "id": "hETlPpH9lyWj"
      },
      "source": [
        "Now to create Employees:"
      ]
    },
    {
      "cell_type": "code",
      "metadata": {
        "id": "9vkGwea5lyWj",
        "outputId": "41b97465-08f1-4002-d330-b1f1e0d7c929"
      },
      "source": [
        "emp_1 = Employee('Ameya','Shanbhag', 50000)\n",
        "emp_2 = Employee('Test','User', 60000)\n",
        "\n",
        "print(emp_1.email)\n",
        "print(emp_2.email)"
      ],
      "execution_count": null,
      "outputs": [
        {
          "output_type": "stream",
          "text": [
            "Ameya.Shanbhag@nyu.edu\n",
            "Test.User@nyu.edu\n"
          ],
          "name": "stdout"
        }
      ]
    },
    {
      "cell_type": "markdown",
      "metadata": {
        "id": "CEWTJkHylyWj"
      },
      "source": [
        "If we need to add actions to the class, we need to create methods:\n",
        "Lets create a method to print the full name of the Employee"
      ]
    },
    {
      "cell_type": "code",
      "metadata": {
        "id": "QcU5Np36lyWj",
        "outputId": "3c02feb0-b9ee-4608-984c-4759a53f5a05"
      },
      "source": [
        "class Employee:\n",
        "    def __init__(self, first, last, pay):  \n",
        "        self.first = first\n",
        "        self.last = last\n",
        "        self.pay = pay\n",
        "        self.email = first + '.' + last + '@nyu.edu'\n",
        "        \n",
        "    def fullname(self):\n",
        "        return '{} {}'.format(self.first,self.last)\n",
        "emp_1 = Employee('Ameya','Shanbhag', 50000)\n",
        "\n",
        "print(emp_1.fullname())"
      ],
      "execution_count": null,
      "outputs": [
        {
          "output_type": "stream",
          "text": [
            "Ameya Shanbhag\n"
          ],
          "name": "stdout"
        }
      ]
    },
    {
      "cell_type": "markdown",
      "metadata": {
        "id": "0y4w2n68lyWj"
      },
      "source": [
        "We have seen what, calling method on instance looks like. Lets see what, calling method on a class looks like:"
      ]
    },
    {
      "cell_type": "code",
      "metadata": {
        "id": "G6KtUS8plyWj",
        "outputId": "5beadc76-3253-4e16-b4c9-1fde0a2f8e9e"
      },
      "source": [
        "print(Employee.fullname(emp_1))"
      ],
      "execution_count": null,
      "outputs": [
        {
          "output_type": "stream",
          "text": [
            "Ameya Shanbhag\n"
          ],
          "name": "stdout"
        }
      ]
    },
    {
      "cell_type": "markdown",
      "metadata": {
        "id": "Wt72flYTlyWj"
      },
      "source": [
        "## 2. Class Variables:\n"
      ]
    },
    {
      "cell_type": "markdown",
      "metadata": {
        "id": "E1ymbaGElyWk"
      },
      "source": [
        "Class Variables are variables that are shared among all instances of a class. \n",
        "Instance variables can be unique for each instance, class variables should be the same for each instance."
      ]
    },
    {
      "cell_type": "markdown",
      "metadata": {
        "id": "FFlrt58nlyWk"
      },
      "source": [
        "Consider you want to give a raise in salary for all the employees. We will use a class variable 'raise_amount' as we will be need to increase the salary of all the employees."
      ]
    },
    {
      "cell_type": "code",
      "metadata": {
        "id": "UvHOngRRlyWk",
        "outputId": "988d37e0-07d5-4f0e-925f-6d28d3576e38"
      },
      "source": [
        "class Employee:\n",
        "    \n",
        "    raise_amount = 1.04\n",
        "    \n",
        "    def __init__(self, first, last, pay):  \n",
        "        self.first = first\n",
        "        self.last = last\n",
        "        self.pay = pay\n",
        "        self.email = first + '.' + last + '@nyu.edu'\n",
        "        \n",
        "    def apply_raise(self):\n",
        "        self.pay = int(self.pay*self.raise_amount) \n",
        "        \n",
        "emp_1 = Employee('Ameya','Shanbhag', 50000)\n",
        "emp_2 = Employee('test','user', 60000)\n",
        "\n",
        "\n",
        "print('Before the raise: ',emp_1.pay)\n",
        "emp_1.apply_raise()\n",
        "print('After the raise: ',emp_1.pay)"
      ],
      "execution_count": null,
      "outputs": [
        {
          "output_type": "stream",
          "text": [
            "Before the raise:  50000\n",
            "After the raise:  52000\n"
          ],
          "name": "stdout"
        }
      ]
    },
    {
      "cell_type": "markdown",
      "metadata": {
        "id": "5nyYYNy0lyWk"
      },
      "source": [
        "You can access 'raise_amount' from both, instances and classes too:"
      ]
    },
    {
      "cell_type": "code",
      "metadata": {
        "id": "o7aRGeWPlyWk",
        "outputId": "08553535-f015-466f-bdc8-0926705ced38"
      },
      "source": [
        "print(Employee.raise_amount)\n",
        "print(emp_1.raise_amount)\n",
        "print(emp_2.raise_amount)"
      ],
      "execution_count": null,
      "outputs": [
        {
          "output_type": "stream",
          "text": [
            "1.04\n",
            "1.04\n",
            "1.04\n"
          ],
          "name": "stdout"
        }
      ]
    },
    {
      "cell_type": "markdown",
      "metadata": {
        "id": "1sjN6cEZlyWk"
      },
      "source": [
        "In order to access the namespace of any instance use:"
      ]
    },
    {
      "cell_type": "code",
      "metadata": {
        "id": "B2VNJAaMlyWk",
        "outputId": "e1e183a6-0d5e-46ca-fe63-8b57fc2e93b1"
      },
      "source": [
        "print(emp_1.__dict__)"
      ],
      "execution_count": null,
      "outputs": [
        {
          "output_type": "stream",
          "text": [
            "{'first': 'Ameya', 'last': 'Shanbhag', 'pay': 52000, 'email': 'Ameya.Shanbhag@nyu.edu'}\n"
          ],
          "name": "stdout"
        }
      ]
    },
    {
      "cell_type": "markdown",
      "metadata": {
        "id": "vJvJ8zh-lyWk"
      },
      "source": [
        "If you change the raise_amount value using a class, then all the instances and the class itself will have their values changed. For example:"
      ]
    },
    {
      "cell_type": "code",
      "metadata": {
        "id": "S9-dAg8_lyWk",
        "outputId": "18b5f94b-1fec-4373-e4e3-38633b368198"
      },
      "source": [
        "Employee.raise_amount = 1.05\n",
        "print(Employee.raise_amount)\n",
        "print(emp_1.raise_amount)\n",
        "print(emp_2.raise_amount)"
      ],
      "execution_count": null,
      "outputs": [
        {
          "output_type": "stream",
          "text": [
            "1.05\n",
            "1.05\n",
            "1.05\n"
          ],
          "name": "stdout"
        }
      ]
    },
    {
      "cell_type": "markdown",
      "metadata": {
        "id": "MEQ44EW-lyWl"
      },
      "source": [
        "But if you change the raise_amount value using an instance then only that particualr instance will have its value changed:"
      ]
    },
    {
      "cell_type": "code",
      "metadata": {
        "id": "AP6nIHcrlyWl",
        "outputId": "f4b4108d-9d96-4d32-acf2-0f86a45f5561"
      },
      "source": [
        "class Employee:\n",
        "    \n",
        "    raise_amount = 1.04\n",
        "    \n",
        "    def __init__(self, first, last, pay):  \n",
        "        self.first = first\n",
        "        self.last = last\n",
        "        self.pay = pay\n",
        "        self.email = first + '.' + last + '@nyu.edu'\n",
        "        \n",
        "    def apply_raise(self):\n",
        "        self.pay = int(self.pay*self.raise_amount) \n",
        "        \n",
        "        \n",
        "emp_1 = Employee('Ameya','Shanbhag', 50000)\n",
        "emp_2 = Employee('test','user', 60000)\n",
        "\n",
        "emp_1.raise_amount = 1.05\n",
        "print(Employee.raise_amount)\n",
        "print(emp_1.raise_amount)\n",
        "print(emp_2.raise_amount)"
      ],
      "execution_count": null,
      "outputs": [
        {
          "output_type": "stream",
          "text": [
            "1.04\n",
            "1.05\n",
            "1.04\n"
          ],
          "name": "stdout"
        }
      ]
    },
    {
      "cell_type": "markdown",
      "metadata": {
        "id": "dcSPlAbXlyWl"
      },
      "source": [
        "This happened because emp_1.raise_amount created another attribute called raise_amount inside the emp_1 instance. So now if you print the namespace of emp_1, you can see that raise_amount is included:"
      ]
    },
    {
      "cell_type": "code",
      "metadata": {
        "id": "G3-zhQw3lyWl",
        "outputId": "1e29e760-3c88-4af6-9c77-a7953298109e"
      },
      "source": [
        "print(emp_1.__dict__)"
      ],
      "execution_count": null,
      "outputs": [
        {
          "output_type": "stream",
          "text": [
            "{'first': 'Ameya', 'last': 'Shanbhag', 'pay': 50000, 'email': 'Ameya.Shanbhag@nyu.edu', 'raise_amount': 1.05}\n"
          ],
          "name": "stdout"
        }
      ]
    },
    {
      "cell_type": "markdown",
      "metadata": {
        "id": "nx0Qru5ylyWl"
      },
      "source": [
        "We used __self.raise_amount__ instead of __Employee.raise_amount__ in the __apply_raise__ function because that enables us to change the modify the __raise_amount__ for each and every employee i.e the __raise_amount__ need not be constant for all the instances. __So in the above example the pay for emp_1 will be calculated with 1.05 value and the pay for emp_2 will be calculated with 1.04 value.__\n",
        "____________________________________________________________________________________________________________\n",
        "\n",
        "But there are a few variables which will be same for all the instances for example the number of employees working for the company. The varialble __num_of_emp__ will be same for all the instances hence we can use __Employee.num_of_emp__ in our method __init__"
      ]
    },
    {
      "cell_type": "code",
      "metadata": {
        "id": "-Wz5V1EalyWl",
        "outputId": "8d6c43f3-1f70-44b9-ce41-383f71923ee3"
      },
      "source": [
        "class Employee:\n",
        "    \n",
        "    raise_amount = 1.04\n",
        "    num_of_emp = 0\n",
        "    \n",
        "    def __init__(self, first, last, pay):  \n",
        "        self.first = first\n",
        "        self.last = last\n",
        "        self.pay = pay\n",
        "        self.email = first + '.' + last + '@nyu.edu'\n",
        "        Employee.num_of_emp += 1\n",
        "        \n",
        "        \n",
        "    def apply_raise(self):\n",
        "        self.pay = int(self.pay*self.raise_amount) \n",
        "        \n",
        "print('No.of employees before: ', Employee.num_of_emp)        \n",
        "emp_1 = Employee('Ameya','Shanbhag', 50000)\n",
        "emp_2 = Employee('test','user', 60000)\n",
        "print('No.of employees after: ', Employee.num_of_emp)"
      ],
      "execution_count": null,
      "outputs": [
        {
          "output_type": "stream",
          "text": [
            "No.of employees before:  0\n",
            "No.of employees after:  2\n"
          ],
          "name": "stdout"
        }
      ]
    },
    {
      "cell_type": "markdown",
      "metadata": {
        "id": "TIEx87amlyWl"
      },
      "source": [
        "## 3. Class Methods and Static Methods:"
      ]
    },
    {
      "cell_type": "markdown",
      "metadata": {
        "id": "qhXwwHYtlyWl"
      },
      "source": [
        "Regular methods and class automatically take the instance as the first argument. So how can we change this so that it automatically takes the class as the first argument. We use class methods for that. In order to turn a regular method to class method, we just need to add decorator(@classmethod) above the method. For example:"
      ]
    },
    {
      "cell_type": "code",
      "metadata": {
        "id": "wHdQvdj3lyWl"
      },
      "source": [
        "@classmethod\n",
        "def set_raise_amount(cls,amount):\n",
        "    pass"
      ],
      "execution_count": null,
      "outputs": []
    },
    {
      "cell_type": "markdown",
      "metadata": {
        "id": "kgWbrl99lyWl"
      },
      "source": [
        "If we want to increase the __raise_amount__ of all the instances then we can create a classmethod which accepts class as an argument. In the following example, I have created a class method in Employee so as soon as I set _Employee.set_raise_amount(1.05)_, it automatically changes the class variable __raise_amount__ from 1.04 to 1.05."
      ]
    },
    {
      "cell_type": "code",
      "metadata": {
        "id": "zpNQeoRclyWm",
        "outputId": "72dbceba-5c5b-4c77-ffac-0fcfa1b8f6fd"
      },
      "source": [
        "class Employee:\n",
        "    \n",
        "    raise_amount = 1.04\n",
        "    num_of_emp = 0\n",
        "    \n",
        "    def __init__(self, first, last, pay):  \n",
        "        self.first = first\n",
        "        self.last = last\n",
        "        self.pay = pay\n",
        "        self.email = first + '.' + last + '@nyu.edu'\n",
        "        Employee.num_of_emp += 1\n",
        "        \n",
        "        \n",
        "    def apply_raise(self):\n",
        "        self.pay = int(self.pay*self.raise_amount) \n",
        "        \n",
        "    @classmethod\n",
        "    def set_raise_amount(cls, amount):\n",
        "        cls.raise_amount = amount\n",
        "        \n",
        "emp_1 = Employee('Ameya','Shanbhag', 50000)\n",
        "emp_2 = Employee('test','user', 60000)\n",
        "Employee.set_raise_amount(1.05)\n",
        "print(emp_1.raise_amount)\n",
        "print(emp_2.raise_amount)"
      ],
      "execution_count": null,
      "outputs": [
        {
          "output_type": "stream",
          "text": [
            "1.05\n",
            "1.05\n"
          ],
          "name": "stdout"
        }
      ]
    },
    {
      "cell_type": "markdown",
      "metadata": {
        "id": "rkLUznkElyWn"
      },
      "source": [
        "Consider you have the data(i.e. First, Last and Pay) in the form of string separated by hyphen and if you want to parse the data then you can create a constructor inside the class Employee which will parse the string."
      ]
    },
    {
      "cell_type": "code",
      "metadata": {
        "id": "haACZsuFlyWn",
        "outputId": "9b07d606-ac0b-4468-ee27-6e0c88dd6559"
      },
      "source": [
        "class Employee:\n",
        "    \n",
        "    raise_amount = 1.04\n",
        "    num_of_emp = 0\n",
        "    \n",
        "    def __init__(self, first, last, pay):  \n",
        "        self.first = first\n",
        "        self.last = last\n",
        "        self.pay = pay\n",
        "        self.email = first + '.' + last + '@nyu.edu'\n",
        "        Employee.num_of_emp += 1\n",
        "        \n",
        "        \n",
        "    def apply_raise(self):\n",
        "        self.pay = int(self.pay*self.raise_amount) \n",
        "        \n",
        "    @classmethod\n",
        "    def set_raise_amount(cls, amount):\n",
        "        cls.raise_amount = amount\n",
        "        \n",
        "    @classmethod\n",
        "    def from_string(cls,emp_str):\n",
        "        first, last, pay = emp_str.split('-')\n",
        "        return cls(first, last, pay)  # Will create a new Employee and return it.\n",
        "        \n",
        "emp1_str = 'Ameya-Shanbhag-50000'\n",
        "emp1_str_new = Employee.from_string(emp1_str)\n",
        "print(emp1_str_new.first)\n",
        "print(emp1_str_new.pay)"
      ],
      "execution_count": null,
      "outputs": [
        {
          "output_type": "stream",
          "text": [
            "Ameya\n",
            "50000\n"
          ],
          "name": "stdout"
        }
      ]
    },
    {
      "cell_type": "markdown",
      "metadata": {
        "id": "5XeQBPXilyWo"
      },
      "source": [
        "Regular methods pass the instance as the first argument, Class methods pass the class as the first argument while Static methods do not pass anything (classes or instances) automatically. "
      ]
    },
    {
      "cell_type": "markdown",
      "metadata": {
        "id": "rtseK5HmlyWo"
      },
      "source": [
        "Consider writing a function to check whether its a workday or not. There is a logical connection with the Employee class but it does not depend on the class or the instance variable. So we will make a static method. We say that the method is static if the static method does not use any class or isntances inside the method."
      ]
    },
    {
      "cell_type": "code",
      "metadata": {
        "id": "5rlM1MDvlyWo",
        "outputId": "0067ea60-f06a-44a8-9a5c-0a147b237bb2"
      },
      "source": [
        "class Employee:\n",
        "    \n",
        "    raise_amount = 1.04\n",
        "    num_of_emp = 0\n",
        "    \n",
        "    def __init__(self, first, last, pay):  \n",
        "        self.first = first\n",
        "        self.last = last\n",
        "        self.pay = pay\n",
        "        self.email = first + '.' + last + '@nyu.edu'\n",
        "        Employee.num_of_emp += 1\n",
        "        \n",
        "        \n",
        "    def apply_raise(self):\n",
        "        self.pay = int(self.pay*self.raise_amount) \n",
        "        \n",
        "    @classmethod\n",
        "    def set_raise_amount(cls, amount):\n",
        "        cls.raise_amount = amount\n",
        "        \n",
        "    @classmethod\n",
        "    def from_string(cls,emp_str):\n",
        "        first, last, pay = emp_str.split('-')\n",
        "        return cls(first, last, pay)  # Will create a new Employee and return it.\n",
        "    \n",
        "    @staticmethod\n",
        "    def is_workday(day):\n",
        "        if day.weekday() == 5 or day.weekday() == 6:\n",
        "            return False\n",
        "        return True\n",
        "        \n",
        "emp1 = Employee('Ameya','Shanbhag','50000')\n",
        "emp2 = Employee('User','Test','60000')\n",
        "\n",
        "import datetime\n",
        "my_date = datetime.date(2016,7,10)\n",
        "\n",
        "print(Employee.is_workday(my_date)) #The date is Sunday so the ouput is False"
      ],
      "execution_count": null,
      "outputs": [
        {
          "output_type": "stream",
          "text": [
            "False\n"
          ],
          "name": "stdout"
        }
      ]
    },
    {
      "cell_type": "markdown",
      "metadata": {
        "id": "BuJgX6ytlyWo"
      },
      "source": [
        "## 4. Inheritance - Creating Subclasses"
      ]
    },
    {
      "cell_type": "markdown",
      "metadata": {
        "id": "SNWCr2rElyWo"
      },
      "source": [
        "Inheritance allows you to inherit attributes and methods from a parent class. This is useful as we can create a subclasses and get all the functionalities of the parent class and then add new functionalities without affecting the parent class. "
      ]
    },
    {
      "cell_type": "markdown",
      "metadata": {
        "id": "Ipj6Q3xElyWo"
      },
      "source": [
        "Lets say we want to create different types of employees(Manager and Developer). We will create a subclass for each type of employee because they will have the same attributes as the Employee class.\n"
      ]
    },
    {
      "cell_type": "code",
      "metadata": {
        "id": "tsjiSfzOlyWo",
        "outputId": "8305d4b8-0ab6-4492-9ed1-f5d41d86081a"
      },
      "source": [
        "class Employee:\n",
        "    \n",
        "    raise_amount = 1.04\n",
        "    \n",
        "    def __init__(self, first, last, pay):  \n",
        "        self.first = first\n",
        "        self.last = last\n",
        "        self.pay = pay\n",
        "        self.email = first + '.' + last + '@nyu.edu'\n",
        "        \n",
        "    def apply_raise(self):\n",
        "        self.pay = int(self.pay*self.raise_amount) \n",
        "        \n",
        "class Developer(Employee):\n",
        "    pass\n",
        "        \n",
        "emp_1 = Developer('Ameya','Shanbhag', 50000)\n",
        "emp_2 = Developer('test','user', 60000)\n",
        "\n",
        "print(emp_1.email)\n",
        "print(emp_2.email)"
      ],
      "execution_count": null,
      "outputs": [
        {
          "output_type": "stream",
          "text": [
            "Ameya.Shanbhag@nyu.edu\n",
            "test.user@nyu.edu\n"
          ],
          "name": "stdout"
        }
      ]
    },
    {
      "cell_type": "markdown",
      "metadata": {
        "id": "5jVITnNOlyWp"
      },
      "source": [
        "If you want to know which class is the subclass accessing, then you can use __help__ command"
      ]
    },
    {
      "cell_type": "code",
      "metadata": {
        "id": "Vg2WD_AWlyWp",
        "outputId": "9355bdfa-d0c0-4e17-d985-46389a3e6ac5"
      },
      "source": [
        "print(help(Developer))"
      ],
      "execution_count": null,
      "outputs": [
        {
          "output_type": "stream",
          "text": [
            "Help on class Developer in module __main__:\n",
            "\n",
            "class Developer(Employee)\n",
            " |  Method resolution order:\n",
            " |      Developer\n",
            " |      Employee\n",
            " |      builtins.object\n",
            " |  \n",
            " |  Methods inherited from Employee:\n",
            " |  \n",
            " |  __init__(self, first, last, pay)\n",
            " |      Initialize self.  See help(type(self)) for accurate signature.\n",
            " |  \n",
            " |  apply_raise(self)\n",
            " |  \n",
            " |  ----------------------------------------------------------------------\n",
            " |  Data descriptors inherited from Employee:\n",
            " |  \n",
            " |  __dict__\n",
            " |      dictionary for instance variables (if defined)\n",
            " |  \n",
            " |  __weakref__\n",
            " |      list of weak references to the object (if defined)\n",
            " |  \n",
            " |  ----------------------------------------------------------------------\n",
            " |  Data and other attributes inherited from Employee:\n",
            " |  \n",
            " |  raise_amount = 1.04\n",
            "\n",
            "None\n"
          ],
          "name": "stdout"
        }
      ]
    },
    {
      "cell_type": "markdown",
      "metadata": {
        "id": "wqowLRN2lyWp"
      },
      "source": [
        "If you want to change the __raise amount__ of only the Developer class but use the apply raise function of the Employee class, you will only need to add a variable in the Developer subclass."
      ]
    },
    {
      "cell_type": "code",
      "metadata": {
        "id": "Jo36nwJylyWp",
        "outputId": "ab57e3c2-8d26-4aad-e2fb-9bf487f9a8e2"
      },
      "source": [
        "class Developer(Employee):\n",
        "    raise_amount = 1.10\n",
        "        \n",
        "dev_1 = Developer('Ameya','Shanbhag', 50000)\n",
        "dev_2 = Developer('test','user', 60000)\n",
        "\n",
        "print(dev_1.pay)\n",
        "dev_1.apply_raise()\n",
        "print(dev_1.pay)"
      ],
      "execution_count": null,
      "outputs": [
        {
          "output_type": "stream",
          "text": [
            "50000\n",
            "55000\n"
          ],
          "name": "stdout"
        }
      ]
    },
    {
      "cell_type": "markdown",
      "metadata": {
        "id": "SjDdkLUklyWp"
      },
      "source": [
        "If we want every Developer class to have __'programming language'__ as an attribute, we will initialise a __'init'__ method in Developer class and instead of copy pasting first,last,pay and email from Employee class we can just let the Employee class handle the first,last,pay and email and initialise the __programming language__ attribute in the Developer sublclass"
      ]
    },
    {
      "cell_type": "code",
      "metadata": {
        "id": "nSk1SuqAlyWp",
        "outputId": "02e066b2-6750-49ee-b01a-7442a77336c3"
      },
      "source": [
        "class Developer(Employee):\n",
        "    raise_amount = 1.10\n",
        "    def __init__(self, first, last, pay, prog_language):\n",
        "        super().__init__(first,last,pay)\n",
        "## Alternative to above method     \n",
        "##      Employee.__init__(self,first,last,pay)\n",
        "        \n",
        "        self.prog_language = prog_language\n",
        "    \n",
        "        \n",
        "dev_1 = Developer('Ameya','Shanbhag', 50000,'Python')\n",
        "dev_2 = Developer('test','user', 60000,'Java')\n",
        "\n",
        "print(dev_1.prog_language)\n",
        "print(dev_2.prog_language)"
      ],
      "execution_count": null,
      "outputs": [
        {
          "output_type": "stream",
          "text": [
            "Python\n",
            "Java\n"
          ],
          "name": "stdout"
        }
      ]
    },
    {
      "cell_type": "markdown",
      "metadata": {
        "id": "oTClM_j8lyWp"
      },
      "source": [
        "Similarly,let us create a sublcass __'Manager'__ to keep a track of the employees that are supervised by the Manager"
      ]
    },
    {
      "cell_type": "code",
      "metadata": {
        "id": "V70bJSUelyWp",
        "outputId": "446451a2-05c1-42a5-fd63-42633a1fbb31"
      },
      "source": [
        "class Employee:\n",
        "    \n",
        "    raise_amount = 1.04\n",
        "    \n",
        "    def __init__(self, first, last, pay):  \n",
        "        self.first = first\n",
        "        self.last = last\n",
        "        self.pay = pay\n",
        "        self.email = first + '.' + last + '@nyu.edu'\n",
        "        \n",
        "    def apply_raise(self):\n",
        "        self.pay = int(self.pay*self.raise_amount) \n",
        "\n",
        "class Developer(Employee):\n",
        "    raise_amount = 1.10\n",
        "    def __init__(self, first, last, pay, prog_language):\n",
        "        super().__init__(first,last,pay)\n",
        "## Alternative to above method     \n",
        "##      Employee.__init__(self,first,last,pay)\n",
        "        \n",
        "        self.prog_language = prog_language\n",
        "\n",
        "class Manager(Employee):\n",
        "    def __init__(self, first, last, pay, employees = None):\n",
        "        super().__init__(first,last,pay)\n",
        "        if employees is None:\n",
        "            self.employees = []\n",
        "        else:\n",
        "            self.employees = employees\n",
        "    \n",
        "    def add_emp(self,emp):\n",
        "        if emp not in self.employees:\n",
        "            self.employees.append(emp)\n",
        "\n",
        "    def remove_emp(self,emp):\n",
        "        if emp in self.employees:\n",
        "            self.employees.remove(emp)\n",
        "            \n",
        "    def print_emp(self):\n",
        "        for emp in self.employees:\n",
        "            print(\"-->\",emp.first)\n",
        "            \n",
        "dev_1 = Developer('Ameya','Shanbhag', 50000,'Python')\n",
        "dev_2 = Developer('test','user', 60000,'Java')\n",
        "\n",
        "mgr_1 = Manager('Sue','Smith',90000,[dev_1])\n",
        "\n",
        "print(mgr_1.email)\n",
        "\n",
        "mgr_1.print_emp()"
      ],
      "execution_count": null,
      "outputs": [
        {
          "output_type": "stream",
          "text": [
            "Sue.Smith@nyu.edu\n",
            "--> Ameya\n"
          ],
          "name": "stdout"
        }
      ]
    },
    {
      "cell_type": "markdown",
      "metadata": {
        "id": "YyQ63cI6lyWp"
      },
      "source": [
        "Let us try adding one more employee to manager 1"
      ]
    },
    {
      "cell_type": "code",
      "metadata": {
        "id": "pT0sniWclyWp",
        "outputId": "c8f4fe6b-32e1-4a52-a81a-9188ca958136"
      },
      "source": [
        "mgr_1.add_emp(dev_2)\n",
        "mgr_1.print_emp()"
      ],
      "execution_count": null,
      "outputs": [
        {
          "output_type": "stream",
          "text": [
            "--> Ameya\n",
            "--> test\n"
          ],
          "name": "stdout"
        }
      ]
    },
    {
      "cell_type": "markdown",
      "metadata": {
        "id": "2qXMH_PglyWq"
      },
      "source": [
        "Python has two in-built functions i.e. isInstance and isSubClass.\n",
        "\n",
        "1. __isinstance()__ will tell us if an object is an instance of a class\n",
        "For example, lets check if __mgr_1__ is an instance of class __Manager__"
      ]
    },
    {
      "cell_type": "code",
      "metadata": {
        "id": "sR_haaVYlyWq",
        "outputId": "996931f1-6ef4-4547-8403-b283fef3e9ae"
      },
      "source": [
        "print(isinstance(mgr_1,Manager))"
      ],
      "execution_count": null,
      "outputs": [
        {
          "output_type": "stream",
          "text": [
            "True\n"
          ],
          "name": "stdout"
        }
      ]
    },
    {
      "cell_type": "markdown",
      "metadata": {
        "id": "G2m7gc46lyWq"
      },
      "source": [
        "__issubclass()__ will tell us if a class is a subclass of another.\n",
        "Lets check if Developer is a subclass of an Employee"
      ]
    },
    {
      "cell_type": "code",
      "metadata": {
        "id": "IlP47wpalyWq",
        "outputId": "4eaf3172-85a2-4959-a386-8e3ad06db9f1"
      },
      "source": [
        "print(issubclass(Developer,Employee))"
      ],
      "execution_count": null,
      "outputs": [
        {
          "output_type": "stream",
          "text": [
            "True\n"
          ],
          "name": "stdout"
        }
      ]
    },
    {
      "cell_type": "markdown",
      "metadata": {
        "id": "MVBA25p6lyWq"
      },
      "source": [
        "## 5. Special (Magic/Dunder) Methods:"
      ]
    },
    {
      "cell_type": "markdown",
      "metadata": {
        "id": "Vcww78IqlyWq"
      },
      "source": [
        "These methods allow us to emulate some built in behaviour within python and its also how we implement operator overloading. By defining the our special methods, we will be able to change the built-in behavior or operation."
      ]
    },
    {
      "cell_type": "code",
      "metadata": {
        "id": "AErp0eudlyWq",
        "outputId": "f3e8fddd-1f6a-43b1-87d2-1f2a9e1ff873"
      },
      "source": [
        "print(emp_1)"
      ],
      "execution_count": null,
      "outputs": [
        {
          "output_type": "stream",
          "text": [
            "<__main__.Developer object at 0x1064995c0>\n"
          ],
          "name": "stdout"
        }
      ]
    },
    {
      "cell_type": "markdown",
      "metadata": {
        "id": "J214u2KYlyWq"
      },
      "source": [
        "As we can see that printing an object gives us a vague looking output. We would be using __dunder__ methods like repr() and str() to modify the output."
      ]
    },
    {
      "cell_type": "markdown",
      "metadata": {
        "id": "mS69k_mUlyWq"
      },
      "source": [
        "__Repr()__ is supposed to be an unambigious representation of the object and can be used for debugging and logging."
      ]
    },
    {
      "cell_type": "markdown",
      "metadata": {
        "id": "kdQop1AtlyWq"
      },
      "source": [
        "__Str()__ is supposed to be readable representation of an object and meant to be used for display to an end-user."
      ]
    },
    {
      "cell_type": "code",
      "metadata": {
        "id": "jouCQOrllyWq",
        "outputId": "57246f7c-03a0-4145-cd03-911474522bc1"
      },
      "source": [
        "class Employee:\n",
        "    \n",
        "    raise_amount = 1.04\n",
        "    \n",
        "    def __init__(self, first, last, pay):  \n",
        "        self.first = first\n",
        "        self.last = last\n",
        "        self.pay = pay\n",
        "        self.email = first + '.' + last + '@nyu.edu'\n",
        "        \n",
        "    def apply_raise(self):\n",
        "        self.pay = int(self.pay*self.raise_amount) \n",
        "        \n",
        "    def __repr__(self):\n",
        "        return \"Employee('{}','{}',{})\".format(self.first,self.last,self.pay)\n",
        "    \n",
        "#    def __str__(self):\n",
        "#        pass\n",
        "        \n",
        "emp_1 = Employee('Ameya','Shanbhag', 50000)\n",
        "emp_2 = Employee('test','user', 60000)\n",
        "\n",
        "print(emp_1)"
      ],
      "execution_count": null,
      "outputs": [
        {
          "output_type": "stream",
          "text": [
            "Employee('Ameya','Shanbhag',50000)\n"
          ],
          "name": "stdout"
        }
      ]
    },
    {
      "cell_type": "markdown",
      "metadata": {
        "id": "rPWJgHjelyWq"
      },
      "source": [
        "So as you can see instead of printing some vague object output, with the help of __repr()__ function we were able to modify the output"
      ]
    },
    {
      "cell_type": "code",
      "metadata": {
        "id": "2ymiewf9lyWq",
        "outputId": "e51fb1c3-a869-475c-ca70-9a8a603660c1"
      },
      "source": [
        "class Employee:\n",
        "    \n",
        "    raise_amount = 1.04\n",
        "    \n",
        "    def __init__(self, first, last, pay):  \n",
        "        self.first = first\n",
        "        self.last = last\n",
        "        self.pay = pay\n",
        "        self.email = first + '.' + last + '@nyu.edu'\n",
        "        \n",
        "    def apply_raise(self):\n",
        "        self.pay = int(self.pay*self.raise_amount) \n",
        "        \n",
        "    def __repr__(self):\n",
        "        return \"Employee('{}','{}',{})\".format(self.first,self.last,self.pay)\n",
        "    \n",
        "    def __str__(self):\n",
        "        return \"{} - {}\".format(self.first,self.email)\n",
        "        \n",
        "emp_1 = Employee('Ameya','Shanbhag', 50000)\n",
        "emp_2 = Employee('test','user', 60000)\n",
        "\n",
        "print(emp_1)"
      ],
      "execution_count": null,
      "outputs": [
        {
          "output_type": "stream",
          "text": [
            "Ameya - Ameya.Shanbhag@nyu.edu\n"
          ],
          "name": "stdout"
        }
      ]
    },
    {
      "cell_type": "markdown",
      "metadata": {
        "id": "aCIN3AcYlyWq"
      },
      "source": [
        "As you can see above, the __Str()__ function will be chosen over the __repr()__ function as by definition the __repr()__ function is supposed to be an unambigious representation while __str()__ function is supposed to be human readable. "
      ]
    },
    {
      "cell_type": "markdown",
      "metadata": {
        "id": "3DHsf4j4lyWq"
      },
      "source": [
        "## 6. Property Decorators: Getters, Setters and Deleters"
      ]
    },
    {
      "cell_type": "code",
      "metadata": {
        "id": "gLhigmoSlyWq",
        "outputId": "085b2476-3cd6-4f14-d5b8-8605130c2dbf"
      },
      "source": [
        "class Employee:\n",
        "    def __init__(self, first, last, pay):  \n",
        "        self.first = first\n",
        "        self.last = last\n",
        "        self.pay = pay\n",
        "        self.email = first + '.' + last + '@nyu.edu'\n",
        "        \n",
        "    def fullname(self):\n",
        "        return '{} {}'.format(self.first,self.last)\n",
        "emp_1 = Employee('Ameya','Shanbhag', 50000)\n",
        "\n",
        "\n",
        "print(emp_1.first)\n",
        "print(emp_1.email)\n",
        "print(emp_1.fullname())"
      ],
      "execution_count": null,
      "outputs": [
        {
          "output_type": "stream",
          "text": [
            "Ameya\n",
            "Ameya.Shanbhag@nyu.edu\n",
            "Ameya Shanbhag\n"
          ],
          "name": "stdout"
        }
      ]
    },
    {
      "cell_type": "markdown",
      "metadata": {
        "id": "EDQgRxEclyWq"
      },
      "source": [
        "As we can see in the above code, __email__ attribute is dependent on __first and last name__ and similarly the fullname() function. But in the following code lets set the first name to be something else after making an object __emp_1__"
      ]
    },
    {
      "cell_type": "code",
      "metadata": {
        "id": "e1GTD5KZlyWq",
        "outputId": "029b3716-31b6-4ab0-f1d6-7634fa7cdff1"
      },
      "source": [
        "class Employee:\n",
        "    def __init__(self, first, last, pay):  \n",
        "        self.first = first\n",
        "        self.last = last\n",
        "        self.pay = pay\n",
        "        self.email = first + '.' + last + '@nyu.edu'\n",
        "        \n",
        "    def fullname(self):\n",
        "        return '{} {}'.format(self.first,self.last)\n",
        "emp_1 = Employee('Ameya','Shanbhag', 50000)\n",
        "\n",
        "emp_1.first = 'Vinod'\n",
        "\n",
        "print(emp_1.first)\n",
        "print(emp_1.email)\n",
        "print(emp_1.fullname())"
      ],
      "execution_count": null,
      "outputs": [
        {
          "output_type": "stream",
          "text": [
            "Vinod\n",
            "Ameya.Shanbhag@nyu.edu\n",
            "Vinod Shanbhag\n"
          ],
          "name": "stdout"
        }
      ]
    },
    {
      "cell_type": "markdown",
      "metadata": {
        "id": "5gztuWuZlyWq"
      },
      "source": [
        "We can fix this issue using a Property Decorator. "
      ]
    },
    {
      "cell_type": "markdown",
      "metadata": {
        "id": "IFfv-uIJlyWq"
      },
      "source": [
        "A __Property Decorator__ is allows us to define a method that we can access like an attribute. For example, lets pull out this email attribute into a method similar to our fullname() method"
      ]
    },
    {
      "cell_type": "code",
      "metadata": {
        "id": "gQ_SjY8jlyWq",
        "outputId": "648609c8-0048-42ff-fd24-c26e57046763"
      },
      "source": [
        "class Employee:\n",
        "    def __init__(self, first, last):  \n",
        "        self.first = first\n",
        "        self.last = last\n",
        " \n",
        "    def email(self):\n",
        "        return '{}.{}@nyu.edu'.format(self.first,self.last)\n",
        "\n",
        "    def fullname(self):\n",
        "        return '{} {}'.format(self.first,self.last)\n",
        "    \n",
        "emp_1 = Employee('Ameya','Shanbhag')\n",
        "\n",
        "emp_1.first = 'Vinod'    \n",
        "\n",
        "print(emp_1.first)\n",
        "print(emp_1.email())\n",
        "print(emp_1.fullname())"
      ],
      "execution_count": null,
      "outputs": [
        {
          "output_type": "stream",
          "text": [
            "Vinod\n",
            "Vinod.Shanbhag@nyu.edu\n",
            "Vinod Shanbhag\n"
          ],
          "name": "stdout"
        }
      ]
    },
    {
      "cell_type": "markdown",
      "metadata": {
        "id": "tj_cfKnhlyWq"
      },
      "source": [
        "Now the email method will get the current first and last name but we will also need to change the code where every email attribute is a method call."
      ]
    },
    {
      "cell_type": "markdown",
      "metadata": {
        "id": "WhfIoBCjlyWq"
      },
      "source": [
        "This is not what we want. So in order to continue using email as an attribute, we can add a __property decorator__ above a method 'email'. Now lets try running our code using email as an attribute and not as a function. "
      ]
    },
    {
      "cell_type": "code",
      "metadata": {
        "id": "TQwJJHBOlyWq",
        "outputId": "d12068a8-8958-4a85-f645-93023356f4c3"
      },
      "source": [
        "class Employee:\n",
        "    def __init__(self, first, last):  \n",
        "        self.first = first\n",
        "        self.last = last\n",
        "        \n",
        "    @property\n",
        "    def email(self):\n",
        "        return '{}.{}@nyu.edu'.format(self.first,self.last)\n",
        "\n",
        "    @property\n",
        "    def fullname(self):\n",
        "        return '{} {}'.format(self.first,self.last)\n",
        "    \n",
        "emp_1 = Employee('Ameya','Shanbhag')\n",
        "\n",
        "emp_1.first = 'Vinod'    \n",
        "\n",
        "print(emp_1.first)\n",
        "print(emp_1.email)\n",
        "print(emp_1.fullname)"
      ],
      "execution_count": null,
      "outputs": [
        {
          "output_type": "stream",
          "text": [
            "Vinod\n",
            "Vinod.Shanbhag@nyu.edu\n",
            "Vinod Shanbhag\n"
          ],
          "name": "stdout"
        }
      ]
    },
    {
      "cell_type": "markdown",
      "metadata": {
        "id": "Kc67CJFGlyWr"
      },
      "source": [
        "Lets consider that after defining an object 'emp_1', we decide to change the fullname to Vinod Mamta. We cannot change it by 'emp_1.fullname = 'Vinod Mamta' ' as it will give me an error. So in order to do what we want to, we can use __Setters__. In the following code, 'name' corresponds to the full name that has been set by the user. "
      ]
    },
    {
      "cell_type": "code",
      "metadata": {
        "id": "6geBXSn0lyWr",
        "outputId": "c57f000f-e018-4361-b171-ee56eba4bfb5"
      },
      "source": [
        "class Employee:\n",
        "    def __init__(self, first, last):  \n",
        "        self.first = first\n",
        "        self.last = last\n",
        "        \n",
        "    @property\n",
        "    def email(self):\n",
        "        return '{}.{}@nyu.edu'.format(self.first,self.last)\n",
        "\n",
        "    @property\n",
        "    def fullname(self):\n",
        "        return '{} {}'.format(self.first,self.last)\n",
        "    \n",
        "    @fullname.setter\n",
        "    def fullname(self,name):\n",
        "        first,last = name.split(' ')\n",
        "        self.first = first\n",
        "        self.last = last\n",
        "    \n",
        "emp_1 = Employee('Ameya','Shanbhag')\n",
        "\n",
        "emp_1.fullname = 'Vinod Mamta'    \n",
        "\n",
        "print(emp_1.first)\n",
        "print(emp_1.email)\n",
        "print(emp_1.fullname)"
      ],
      "execution_count": null,
      "outputs": [
        {
          "output_type": "stream",
          "text": [
            "Vinod\n",
            "Vinod.Mamta@nyu.edu\n",
            "Vinod Mamta\n"
          ],
          "name": "stdout"
        }
      ]
    },
    {
      "cell_type": "markdown",
      "metadata": {
        "id": "g-R1TbUWlyWr"
      },
      "source": [
        "To delete the first and last name, you can use a __Deleter__ decorator."
      ]
    },
    {
      "cell_type": "code",
      "metadata": {
        "id": "mfEY4qS9lyWr",
        "outputId": "0a6a0667-e39e-4e37-a315-8fd6d04bf329"
      },
      "source": [
        "class Employee:\n",
        "    def __init__(self, first, last):  \n",
        "        self.first = first\n",
        "        self.last = last\n",
        "        \n",
        "    @property\n",
        "    def email(self):\n",
        "        return '{}.{}@nyu.edu'.format(self.first,self.last)\n",
        "\n",
        "    @property\n",
        "    def fullname(self):\n",
        "        return '{} {}'.format(self.first,self.last)\n",
        "    \n",
        "    @fullname.setter\n",
        "    def fullname(self,name):\n",
        "        first,last = name.split(' ')\n",
        "        self.first = first\n",
        "        self.last = last\n",
        "        \n",
        "    @fullname.deleter\n",
        "    def fullname(self):\n",
        "        print('Delete Name!')\n",
        "        self.first = None\n",
        "        self.last = None\n",
        "    \n",
        "emp_1 = Employee('Ameya','Shanbhag')\n",
        "\n",
        "emp_1.fullname = 'Vinod Mamta'    \n",
        "\n",
        "print(emp_1.first)\n",
        "print(emp_1.email)\n",
        "print(emp_1.fullname)\n",
        "\n",
        "del emp_1.fullname"
      ],
      "execution_count": null,
      "outputs": [
        {
          "output_type": "stream",
          "text": [
            "Vinod\n",
            "Vinod.Mamta@nyu.edu\n",
            "Vinod Mamta\n",
            "Delete Name!\n"
          ],
          "name": "stdout"
        }
      ]
    },
    {
      "cell_type": "code",
      "metadata": {
        "id": "JuleVNV8lyWr"
      },
      "source": [
        ""
      ],
      "execution_count": null,
      "outputs": []
    }
  ]
}